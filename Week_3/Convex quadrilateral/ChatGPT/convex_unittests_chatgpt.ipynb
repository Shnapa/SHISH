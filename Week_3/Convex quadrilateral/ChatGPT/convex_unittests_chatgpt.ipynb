{
 "cells": [
  {
   "cell_type": "markdown",
   "metadata": {},
   "source": [
    "## Unittests for Convex quadrilateral"
   ]
  },
  {
   "cell_type": "markdown",
   "metadata": {},
   "source": [
    "#### Code before conversation:"
   ]
  },
  {
   "cell_type": "code",
   "execution_count": null,
   "metadata": {
    "vscode": {
     "languageId": "plaintext"
    }
   },
   "outputs": [],
   "source": [
    "'''\n",
    "Returns the intersection points between \n",
    "each pair of non-parallel lines (i.e., vertices)\n",
    "and find the area of the convex quadrilateral formed\n",
    "by the four vertices. The function should return the area of \n",
    "the quadrilateral.\n",
    "'''\n",
    "def four_lines_area(k1, c1, k2, c2, k3, c3, k4, c4):\n",
    "    '''\n",
    "    Returns the area of a convex quadrilateral.\n",
    "    Each of the sides of the quadrilateral\n",
    "    is given by the equation of the line to\n",
    "    which this side belongs.\n",
    "    '''\n",
    "    if  not isinstance(k1, (int,float)) and not isinstance(c1, (int,float)):\n",
    "        return None\n",
    "    if  not isinstance(k2, (int,float)) and not isinstance(c2, (int,float)):\n",
    "        return None\n",
    "    if  not isinstance(k3, (int,float)) and not isinstance(c3, (int,float)):\n",
    "        return None\n",
    "    if  not isinstance(k4, (int,float)) and not isinstance(c4, (int,float)):\n",
    "        return None\n",
    "\n",
    "    x1, y1 = lines_intersection(k1, c1, k2, c2)\n",
    "    x2, y2 = lines_intersection(k2, c2, k3, c3)\n",
    "    x3, y3 = lines_intersection(k3, c3, k4, c4)\n",
    "    x4, y4 = lines_intersection(k4, c4, k1, c1)\n",
    "    a = distance(x1, y1, x2, y2)\n",
    "    b = distance(x1, y1, x2, y2)\n",
    "    c = distance(x1, y1, x2, y2)\n",
    "    d = distance(x1, y1, x2, y2)\n",
    "    f1 = distance(x1, y1, x3, y3)\n",
    "    f2 = distance(x2, y2, x4, y4)\n",
    "    return quadrangle_area(a, b, c, d, f1, f2)\n",
    "\n",
    "def lines_intersection(k1, c1, k2, c2):\n",
    "    '''\n",
    "    Returns function for finding the points\n",
    "    of intersection of two lines\n",
    "    '''\n",
    "    if k1 != k2:\n",
    "        x0 = round(((c2 - c1) / (k1 - k2)), 2)\n",
    "        y0 = round(((k1 * x0) + c1), 2)\n",
    "        return (x0, y0)\n",
    "    return None\n",
    "\n",
    "def distance(x1, y1, x2, y2):\n",
    "    '''\n",
    "    Returns function for finding the distance\n",
    "    between two points\n",
    "    '''\n",
    "    dist0 = (((x2 - x1) ** 2) + ((y2 - y1) ** 2))**0.5\n",
    "    return round(dist0, 2)\n",
    "\n",
    "def quadrangle_area(a, b, c, d, f1, f2):\n",
    "    '''\n",
    "    Returns function for finding\n",
    "    the area of a quadrilateral\n",
    "    '''\n",
    "    ph_out = ((4*(f1**2)*(f2**2))-((b**2)+(d**2)-(a**2)-(c**2))**2)/16\n",
    "    if ph_out > 0:\n",
    "        s = (ph_out)**0.5\n",
    "        return round(s, 2)\n",
    "    return None"
   ]
  },
  {
   "cell_type": "markdown",
   "metadata": {},
   "source": [
    "#### Code after conversation:"
   ]
  },
  {
   "cell_type": "code",
   "execution_count": null,
   "metadata": {
    "vscode": {
     "languageId": "plaintext"
    }
   },
   "outputs": [],
   "source": [
    "'''\n",
    "Returns the intersection points between \n",
    "each pair of non-parallel lines (i.e., vertices)\n",
    "and find the area of the convex quadrilateral formed\n",
    "by the four vertices. The function should return the area of \n",
    "the quadrilateral.\n",
    "'''\n",
    "\n",
    "def four_lines_area(k1, c1, k2, c2, k3, c3, k4, c4):\n",
    "    '''\n",
    "    Returns the area of a convex quadrilateral.\n",
    "    Each of the sides of the quadrilateral\n",
    "    is given by the equation of the line to\n",
    "    which this side belongs.\n",
    "    '''\n",
    "    if  not isinstance(k1, (int,float)) or not isinstance(c1, (int,float)):\n",
    "        return None\n",
    "    if  not isinstance(k2, (int,float)) or not isinstance(c2, (int,float)):\n",
    "        return None\n",
    "    if  not isinstance(k3, (int,float)) or not isinstance(c3, (int,float)):\n",
    "        return None\n",
    "    if  not isinstance(k4, (int,float)) or not isinstance(c4, (int,float)):\n",
    "        return None\n",
    "\n",
    "    intersection1 = lines_intersection(k1, c1, k2, c2)\n",
    "    intersection2 = lines_intersection(k2, c2, k3, c3)\n",
    "    intersection3 = lines_intersection(k3, c3, k4, c4)\n",
    "    intersection4 = lines_intersection(k4, c4, k1, c1)\n",
    "\n",
    "    if None in (intersection1, intersection2, intersection3, intersection4):\n",
    "        return None\n",
    "\n",
    "    x1, y1 = intersection1\n",
    "    x2, y2 = intersection2\n",
    "    x3, y3 = intersection3\n",
    "    x4, y4 = intersection4\n",
    "\n",
    "    a = distance(x1, y1, x2, y2)\n",
    "    b = distance(x1, y1, x2, y2)\n",
    "    c = distance(x1, y1, x2, y2)\n",
    "    d = distance(x1, y1, x2, y2)\n",
    "    f1 = distance(x1, y1, x3, y3)\n",
    "    f2 = distance(x2, y2, x4, y4)\n",
    "    return quadrangle_area(a, b, c, d, f1, f2)\n",
    "\n",
    "def lines_intersection(k1, c1, k2, c2):\n",
    "    '''\n",
    "    Returns function for finding the points\n",
    "    of intersection of two lines\n",
    "    '''\n",
    "    if k1 != k2:\n",
    "        x0 = round(((c2 - c1) / (k1 - k2)), 2)\n",
    "        y0 = round(((k1 * x0) + c1), 2)\n",
    "        return (x0, y0)\n",
    "    return None\n",
    "\n",
    "def distance(x1, y1, x2, y2):\n",
    "    '''\n",
    "    Returns function for finding the distance\n",
    "    between two points\n",
    "    '''\n",
    "    dist0 = (((x2 - x1) ** 2) + ((y2 - y1) ** 2))**0.5\n",
    "    return round(dist0, 2)\n",
    "\n",
    "def quadrangle_area(a, b, c, d, f1, f2):\n",
    "    '''\n",
    "    Returns function for finding\n",
    "    the area of a quadrilateral\n",
    "    '''\n",
    "    for el in [a, b, c, d, f1, f2]:\n",
    "        if not isinstance(el, (int, float)) or el < 0 or el == float('inf'):\n",
    "            return None\n",
    "    ph_out = ((4*(f1**2)*(f2**2))-((b**2)+(d**2)-(a**2)-(c**2))**2)/16\n",
    "    s = (ph_out)**0.5\n",
    "    return round(s, 2)\n"
   ]
  },
  {
   "cell_type": "markdown",
   "metadata": {},
   "source": [
    "Link for chat:\n",
    "\n",
    "https://chat.openai.com/share/9b6c4081-942f-45d3-a6af-c23822c60ca6"
   ]
  }
 ],
 "metadata": {
  "language_info": {
   "name": "python"
  }
 },
 "nbformat": 4,
 "nbformat_minor": 2
}
