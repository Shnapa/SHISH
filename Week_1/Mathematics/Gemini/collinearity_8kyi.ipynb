{
 "cells": [
  {
   "cell_type": "markdown",
   "metadata": {},
   "source": [
    "Умова завдання\n",
    "\n",
    "You are given two vectors starting from the origin (x=0, y=0) with coordinates (x1,y1) and (x2,y2). Your task is to find out if these vectors are collinear. Collinear vectors are vectors that lie on the same straight line. They can be directed in the same or opposite directions. One vector can be obtained from another by multiplying it by a certain number. In terms of coordinates, vectors (x1, y1) and (x2, y2) are collinear if (x1, y1) = (k*x2, k*y2) , where k is any number acting as a coefficient.\n",
    "\n",
    "For more information, check out this article on collinearity.\n",
    "\n",
    "Problem Description\n",
    "Write the function collinearity(x1, y1, x2, y2), which returns a Boolean type depending on whether the vectors are collinear or not.\n",
    "\n",
    "all coordinates are integers\n",
    "-1000 <= any coordinate <= 1000\n",
    "\n",
    "Notes\n",
    "\n",
    "All vectors start from the origin (x=0, y=0).\n",
    "Be careful when handling cases where x1, x2, y1, or y2 are zero to avoid division by zero errors.\n",
    "A vector with coordinates (0, 0) is collinear to all vectors.\n",
    "\n",
    "Examples\n",
    "\n",
    "(1,1,1,1) ➞ true\n",
    "\n",
    "(1,2,2,4) ➞ true\n",
    "\n",
    "(1,1,6,1) ➞ false\n",
    "\n",
    "(1,2,-1,-2) ➞ true\n",
    "\n",
    "(1,2,1,-2) ➞ false\n",
    "\n",
    "(4,0,11,0) ➞ true\n",
    "\n",
    "(0,1,6,0) ➞ false\n",
    "\n",
    "(4,4,0,4) ➞ false\n",
    "\n",
    "(0,0,0,0) ➞ true\n",
    "\n",
    "(0,0,1,0) ➞ true\n",
    "\n",
    "(5,7,0,0) ➞ true"
   ]
  },
  {
   "cell_type": "markdown",
   "metadata": {},
   "source": [
    "Коли я дала лише умову завдання (без теоретичної частини і прикладів), Gemini видав код, який не проходив один тест"
   ]
  },
  {
   "cell_type": "code",
   "execution_count": null,
   "metadata": {
    "vscode": {
     "languageId": "plaintext"
    }
   },
   "outputs": [],
   "source": []
  },
  {
   "cell_type": "code",
   "execution_count": null,
   "metadata": {
    "vscode": {
     "languageId": "plaintext"
    }
   },
   "outputs": [],
   "source": [
    "def collinearity(x1, y1, x2, y2):\n",
    "    \"\"\"\n",
    "    This function determines whether two vectors are collinear.\n",
    "\n",
    "    Args:\n",
    "        x1: The x-coordinate of the first vector.\n",
    "        y1: The y-coordinate of the first vector.\n",
    "        x2: The x-coordinate of the second vector.\n",
    "        y2: The y-coordinate of the second vector.\n",
    "\n",
    "    Returns:\n",
    "        True if the vectors are collinear, False otherwise.\n",
    "    \"\"\"\n",
    "\n",
    "    # Handle cases where one or both vectors are zero to avoid division by zero errors.\n",
    "    if x1 == 0 and y1 == 0:\n",
    "        return True\n",
    "    elif x2 == 0 and y2 == 0:\n",
    "        return True\n",
    "\n",
    "    # Calculate the cross product of the two vectors.\n",
    "    cross_product = x1 * y2 - x2 * y1\n",
    "\n",
    "    # If the cross product is zero, the vectors are collinear.\n",
    "    return cross_product == 0"
   ]
  },
  {
   "cell_type": "code",
   "execution_count": null,
   "metadata": {
    "vscode": {
     "languageId": "plaintext"
    }
   },
   "outputs": [],
   "source": [
    "def collinearity(x1, y1, x2, y2):\n",
    "    \"\"\"\n",
    "    This function determines whether two vectors are collinear.\n",
    "\n",
    "    Args:\n",
    "        x1: The x-coordinate of the first vector.\n",
    "        y1: The y-coordinate of the first vector.\n",
    "        x2: The x-coordinate of the second vector.\n",
    "        y2: The y-coordinate of the second vector.\n",
    "\n",
    "    Returns:\n",
    "        True if the vectors are collinear, False otherwise.\n",
    "    \"\"\"\n",
    "\n",
    "    # Handle cases where one or both vectors are zero to avoid division by zero errors.\n",
    "    if x1 == 0 and y1 == 0:\n",
    "        return True\n",
    "    elif x2 == 0 and y2 == 0:\n",
    "        return True\n",
    "\n",
    "    # Calculate the cross product of the two vectors.\n",
    "    cross_product = x1 * y2 - x2 * y1\n",
    "\n",
    "    # If the cross product is zero, the vectors are collinear.\n",
    "    return cross_product == 0"
   ]
  }
 ],
 "metadata": {
  "language_info": {
   "name": "python"
  }
 },
 "nbformat": 4,
 "nbformat_minor": 2
}
